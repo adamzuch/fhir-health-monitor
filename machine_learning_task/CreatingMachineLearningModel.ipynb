{
 "cells": [
  {
   "cell_type": "code",
   "execution_count": 1,
   "metadata": {
    "colab": {},
    "colab_type": "code",
    "id": "Rhk0nhJ0s3lY"
   },
   "outputs": [],
   "source": [
    "from sklearn.tree import DecisionTreeClassifier\n",
    "from sklearn.model_selection import train_test_split\n",
    "import pandas as pd\n",
    "import numpy as np\n",
    "from sklearn.metrics import accuracy_score\n",
    "from sklearn.metrics import plot_confusion_matrix\n",
    "import random\n",
    "from sklearn import tree\n",
    "import json\n",
    "import time\n",
    "import pickle"
   ]
  },
  {
   "cell_type": "code",
   "execution_count": 2,
   "metadata": {
    "colab": {},
    "colab_type": "code",
    "id": "PIzuM5uXecij"
   },
   "outputs": [],
   "source": [
    "datapath = \"ACQUIRING_DATA/PatientData_TRAIN_ML.csv\""
   ]
  },
  {
   "cell_type": "code",
   "execution_count": 3,
   "metadata": {
    "colab": {},
    "colab_type": "code",
    "id": "Fy9gzb4SPQkU"
   },
   "outputs": [],
   "source": [
    "#Loading the dataset\n",
    "df  = pd.read_csv(datapath,sep=\"\\t\")\n",
    "X= df.drop([\"ID\",\"removal\"],1) #Drop the ID and the removal value (redundant)\n",
    "AVG_CHOL = X[\"2093-3\"].mean()\n",
    "int(AVG_CHOL)\n",
    "\n",
    "HighChol_array = []\n",
    "for index,row in X.iterrows():\n",
    "    if int(row[\"2093-3\"]) > int(AVG_CHOL):\n",
    "        HighChol_array.append(1) \n",
    "    else:\n",
    "        HighChol_array.append(0) \n",
    "X[\"HighCholesterol\"] = HighChol_array\n",
    "X=X.drop([\"2093-3\"],1) #Drop the cholesterol value from the array."
   ]
  },
  {
   "cell_type": "code",
   "execution_count": 4,
   "metadata": {
    "colab": {},
    "colab_type": "code",
    "id": "pXZjWsX4FxjR"
   },
   "outputs": [],
   "source": [
    "#Only use the first 200 rows for a rounder number\n",
    "X=X.head(200)"
   ]
  },
  {
   "cell_type": "markdown",
   "metadata": {
    "colab_type": "text",
    "id": "YOd9ZCKotanr"
   },
   "source": [
    "In the forums, it was mentioned that we were not allowed to use the features:\n",
    "* Triglycerides - 2571-8\n",
    "* Low Density Lipoprotein Cholesterol - 18262-6\n",
    "* High Density Lipoprotein Cholesterol - 2085-9"
   ]
  },
  {
   "cell_type": "code",
   "execution_count": 5,
   "metadata": {
    "colab": {},
    "colab_type": "code",
    "id": "xQlI5Ppec0RB"
   },
   "outputs": [],
   "source": [
    "#Drop the aforementioned illegal features\n",
    "X= X.drop([\"2571-8\",\"18262-6\",\"2085-9\"],1) \n"
   ]
  },
  {
   "cell_type": "code",
   "execution_count": 6,
   "metadata": {
    "colab": {},
    "colab_type": "code",
    "id": "uFx7tx_rVUae"
   },
   "outputs": [],
   "source": [
    "y= X[\"HighCholesterol\"]"
   ]
  },
  {
   "cell_type": "code",
   "execution_count": 7,
   "metadata": {
    "colab": {
     "base_uri": "https://localhost:8080/",
     "height": 407
    },
    "colab_type": "code",
    "id": "rME8jYUt5uT-",
    "outputId": "8a80863d-4df6-4811-861c-28396dfa73a9"
   },
   "outputs": [
    {
     "data": {
      "text/html": [
       "<div>\n",
       "<style scoped>\n",
       "    .dataframe tbody tr th:only-of-type {\n",
       "        vertical-align: middle;\n",
       "    }\n",
       "\n",
       "    .dataframe tbody tr th {\n",
       "        vertical-align: top;\n",
       "    }\n",
       "\n",
       "    .dataframe thead th {\n",
       "        text-align: right;\n",
       "    }\n",
       "</style>\n",
       "<table border=\"1\" class=\"dataframe\">\n",
       "  <thead>\n",
       "    <tr style=\"text-align: right;\">\n",
       "      <th></th>\n",
       "      <th>32207-3</th>\n",
       "      <th>777-3</th>\n",
       "      <th>21000-5</th>\n",
       "      <th>786-4</th>\n",
       "      <th>32623-1</th>\n",
       "      <th>39156-5</th>\n",
       "      <th>29463-7</th>\n",
       "      <th>72514-3</th>\n",
       "      <th>8302-2</th>\n",
       "      <th>8462-4</th>\n",
       "      <th>...</th>\n",
       "      <th>785-6</th>\n",
       "      <th>787-2</th>\n",
       "      <th>AI</th>\n",
       "      <th>AS</th>\n",
       "      <th>AA</th>\n",
       "      <th>NH</th>\n",
       "      <th>W</th>\n",
       "      <th>OR</th>\n",
       "      <th>age</th>\n",
       "      <th>gender</th>\n",
       "    </tr>\n",
       "  </thead>\n",
       "  <tbody>\n",
       "    <tr>\n",
       "      <th>0</th>\n",
       "      <td>369.11</td>\n",
       "      <td>258.20</td>\n",
       "      <td>43.761</td>\n",
       "      <td>35.920</td>\n",
       "      <td>10.1690</td>\n",
       "      <td>30.02</td>\n",
       "      <td>93.1</td>\n",
       "      <td>2.0</td>\n",
       "      <td>176.1</td>\n",
       "      <td>78.0</td>\n",
       "      <td>...</td>\n",
       "      <td>32.296</td>\n",
       "      <td>87.638</td>\n",
       "      <td>0</td>\n",
       "      <td>0</td>\n",
       "      <td>0</td>\n",
       "      <td>0</td>\n",
       "      <td>1</td>\n",
       "      <td>0</td>\n",
       "      <td>45</td>\n",
       "      <td>1</td>\n",
       "    </tr>\n",
       "    <tr>\n",
       "      <th>1</th>\n",
       "      <td>489.98</td>\n",
       "      <td>286.86</td>\n",
       "      <td>45.413</td>\n",
       "      <td>34.484</td>\n",
       "      <td>10.7340</td>\n",
       "      <td>27.46</td>\n",
       "      <td>84.1</td>\n",
       "      <td>4.0</td>\n",
       "      <td>175.0</td>\n",
       "      <td>86.0</td>\n",
       "      <td>...</td>\n",
       "      <td>30.363</td>\n",
       "      <td>83.495</td>\n",
       "      <td>0</td>\n",
       "      <td>0</td>\n",
       "      <td>0</td>\n",
       "      <td>0</td>\n",
       "      <td>1</td>\n",
       "      <td>0</td>\n",
       "      <td>46</td>\n",
       "      <td>1</td>\n",
       "    </tr>\n",
       "    <tr>\n",
       "      <th>2</th>\n",
       "      <td>334.79</td>\n",
       "      <td>192.41</td>\n",
       "      <td>45.611</td>\n",
       "      <td>33.372</td>\n",
       "      <td>10.9640</td>\n",
       "      <td>27.43</td>\n",
       "      <td>74.8</td>\n",
       "      <td>2.0</td>\n",
       "      <td>165.1</td>\n",
       "      <td>72.0</td>\n",
       "      <td>...</td>\n",
       "      <td>31.862</td>\n",
       "      <td>80.002</td>\n",
       "      <td>0</td>\n",
       "      <td>0</td>\n",
       "      <td>0</td>\n",
       "      <td>0</td>\n",
       "      <td>1</td>\n",
       "      <td>0</td>\n",
       "      <td>36</td>\n",
       "      <td>0</td>\n",
       "    </tr>\n",
       "    <tr>\n",
       "      <th>3</th>\n",
       "      <td>167.98</td>\n",
       "      <td>318.85</td>\n",
       "      <td>39.654</td>\n",
       "      <td>35.616</td>\n",
       "      <td>11.3040</td>\n",
       "      <td>26.64</td>\n",
       "      <td>79.2</td>\n",
       "      <td>3.0</td>\n",
       "      <td>172.4</td>\n",
       "      <td>79.0</td>\n",
       "      <td>...</td>\n",
       "      <td>31.170</td>\n",
       "      <td>88.973</td>\n",
       "      <td>0</td>\n",
       "      <td>0</td>\n",
       "      <td>0</td>\n",
       "      <td>0</td>\n",
       "      <td>1</td>\n",
       "      <td>0</td>\n",
       "      <td>36</td>\n",
       "      <td>0</td>\n",
       "    </tr>\n",
       "    <tr>\n",
       "      <th>4</th>\n",
       "      <td>502.83</td>\n",
       "      <td>442.51</td>\n",
       "      <td>42.608</td>\n",
       "      <td>35.660</td>\n",
       "      <td>11.1270</td>\n",
       "      <td>27.79</td>\n",
       "      <td>71.8</td>\n",
       "      <td>4.0</td>\n",
       "      <td>156.3</td>\n",
       "      <td>82.0</td>\n",
       "      <td>...</td>\n",
       "      <td>30.477</td>\n",
       "      <td>88.215</td>\n",
       "      <td>0</td>\n",
       "      <td>0</td>\n",
       "      <td>1</td>\n",
       "      <td>0</td>\n",
       "      <td>0</td>\n",
       "      <td>0</td>\n",
       "      <td>53</td>\n",
       "      <td>0</td>\n",
       "    </tr>\n",
       "    <tr>\n",
       "      <th>...</th>\n",
       "      <td>...</td>\n",
       "      <td>...</td>\n",
       "      <td>...</td>\n",
       "      <td>...</td>\n",
       "      <td>...</td>\n",
       "      <td>...</td>\n",
       "      <td>...</td>\n",
       "      <td>...</td>\n",
       "      <td>...</td>\n",
       "      <td>...</td>\n",
       "      <td>...</td>\n",
       "      <td>...</td>\n",
       "      <td>...</td>\n",
       "      <td>...</td>\n",
       "      <td>...</td>\n",
       "      <td>...</td>\n",
       "      <td>...</td>\n",
       "      <td>...</td>\n",
       "      <td>...</td>\n",
       "      <td>...</td>\n",
       "      <td>...</td>\n",
       "    </tr>\n",
       "    <tr>\n",
       "      <th>195</th>\n",
       "      <td>216.72</td>\n",
       "      <td>156.52</td>\n",
       "      <td>41.644</td>\n",
       "      <td>33.917</td>\n",
       "      <td>11.2700</td>\n",
       "      <td>30.27</td>\n",
       "      <td>92.9</td>\n",
       "      <td>2.0</td>\n",
       "      <td>175.2</td>\n",
       "      <td>77.0</td>\n",
       "      <td>...</td>\n",
       "      <td>28.803</td>\n",
       "      <td>87.820</td>\n",
       "      <td>0</td>\n",
       "      <td>0</td>\n",
       "      <td>0</td>\n",
       "      <td>0</td>\n",
       "      <td>1</td>\n",
       "      <td>0</td>\n",
       "      <td>50</td>\n",
       "      <td>1</td>\n",
       "    </tr>\n",
       "    <tr>\n",
       "      <th>196</th>\n",
       "      <td>489.98</td>\n",
       "      <td>384.34</td>\n",
       "      <td>39.668</td>\n",
       "      <td>35.781</td>\n",
       "      <td>12.0750</td>\n",
       "      <td>22.04</td>\n",
       "      <td>74.0</td>\n",
       "      <td>3.0</td>\n",
       "      <td>183.2</td>\n",
       "      <td>71.0</td>\n",
       "      <td>...</td>\n",
       "      <td>30.136</td>\n",
       "      <td>94.555</td>\n",
       "      <td>0</td>\n",
       "      <td>0</td>\n",
       "      <td>0</td>\n",
       "      <td>0</td>\n",
       "      <td>1</td>\n",
       "      <td>0</td>\n",
       "      <td>78</td>\n",
       "      <td>0</td>\n",
       "    </tr>\n",
       "    <tr>\n",
       "      <th>197</th>\n",
       "      <td>451.12</td>\n",
       "      <td>448.26</td>\n",
       "      <td>40.836</td>\n",
       "      <td>33.590</td>\n",
       "      <td>9.9021</td>\n",
       "      <td>29.47</td>\n",
       "      <td>75.7</td>\n",
       "      <td>4.0</td>\n",
       "      <td>160.3</td>\n",
       "      <td>78.0</td>\n",
       "      <td>...</td>\n",
       "      <td>32.457</td>\n",
       "      <td>83.618</td>\n",
       "      <td>0</td>\n",
       "      <td>0</td>\n",
       "      <td>0</td>\n",
       "      <td>0</td>\n",
       "      <td>1</td>\n",
       "      <td>0</td>\n",
       "      <td>64</td>\n",
       "      <td>0</td>\n",
       "    </tr>\n",
       "    <tr>\n",
       "      <th>198</th>\n",
       "      <td>356.02</td>\n",
       "      <td>259.88</td>\n",
       "      <td>43.507</td>\n",
       "      <td>35.079</td>\n",
       "      <td>11.4030</td>\n",
       "      <td>27.86</td>\n",
       "      <td>76.5</td>\n",
       "      <td>2.0</td>\n",
       "      <td>165.7</td>\n",
       "      <td>86.0</td>\n",
       "      <td>...</td>\n",
       "      <td>27.960</td>\n",
       "      <td>90.002</td>\n",
       "      <td>0</td>\n",
       "      <td>0</td>\n",
       "      <td>0</td>\n",
       "      <td>0</td>\n",
       "      <td>1</td>\n",
       "      <td>0</td>\n",
       "      <td>36</td>\n",
       "      <td>0</td>\n",
       "    </tr>\n",
       "    <tr>\n",
       "      <th>199</th>\n",
       "      <td>351.92</td>\n",
       "      <td>308.20</td>\n",
       "      <td>45.114</td>\n",
       "      <td>34.819</td>\n",
       "      <td>11.4050</td>\n",
       "      <td>29.52</td>\n",
       "      <td>93.8</td>\n",
       "      <td>2.0</td>\n",
       "      <td>178.3</td>\n",
       "      <td>86.0</td>\n",
       "      <td>...</td>\n",
       "      <td>28.583</td>\n",
       "      <td>88.141</td>\n",
       "      <td>0</td>\n",
       "      <td>0</td>\n",
       "      <td>0</td>\n",
       "      <td>0</td>\n",
       "      <td>1</td>\n",
       "      <td>0</td>\n",
       "      <td>38</td>\n",
       "      <td>0</td>\n",
       "    </tr>\n",
       "  </tbody>\n",
       "</table>\n",
       "<p>200 rows × 25 columns</p>\n",
       "</div>"
      ],
      "text/plain": [
       "     32207-3   777-3  21000-5   786-4  32623-1  39156-5  29463-7  72514-3  \\\n",
       "0     369.11  258.20   43.761  35.920  10.1690    30.02     93.1      2.0   \n",
       "1     489.98  286.86   45.413  34.484  10.7340    27.46     84.1      4.0   \n",
       "2     334.79  192.41   45.611  33.372  10.9640    27.43     74.8      2.0   \n",
       "3     167.98  318.85   39.654  35.616  11.3040    26.64     79.2      3.0   \n",
       "4     502.83  442.51   42.608  35.660  11.1270    27.79     71.8      4.0   \n",
       "..       ...     ...      ...     ...      ...      ...      ...      ...   \n",
       "195   216.72  156.52   41.644  33.917  11.2700    30.27     92.9      2.0   \n",
       "196   489.98  384.34   39.668  35.781  12.0750    22.04     74.0      3.0   \n",
       "197   451.12  448.26   40.836  33.590   9.9021    29.47     75.7      4.0   \n",
       "198   356.02  259.88   43.507  35.079  11.4030    27.86     76.5      2.0   \n",
       "199   351.92  308.20   45.114  34.819  11.4050    29.52     93.8      2.0   \n",
       "\n",
       "     8302-2  8462-4  ...   785-6   787-2  AI  AS  AA  NH  W  OR  age  gender  \n",
       "0     176.1    78.0  ...  32.296  87.638   0   0   0   0  1   0   45       1  \n",
       "1     175.0    86.0  ...  30.363  83.495   0   0   0   0  1   0   46       1  \n",
       "2     165.1    72.0  ...  31.862  80.002   0   0   0   0  1   0   36       0  \n",
       "3     172.4    79.0  ...  31.170  88.973   0   0   0   0  1   0   36       0  \n",
       "4     156.3    82.0  ...  30.477  88.215   0   0   1   0  0   0   53       0  \n",
       "..      ...     ...  ...     ...     ...  ..  ..  ..  .. ..  ..  ...     ...  \n",
       "195   175.2    77.0  ...  28.803  87.820   0   0   0   0  1   0   50       1  \n",
       "196   183.2    71.0  ...  30.136  94.555   0   0   0   0  1   0   78       0  \n",
       "197   160.3    78.0  ...  32.457  83.618   0   0   0   0  1   0   64       0  \n",
       "198   165.7    86.0  ...  27.960  90.002   0   0   0   0  1   0   36       0  \n",
       "199   178.3    86.0  ...  28.583  88.141   0   0   0   0  1   0   38       0  \n",
       "\n",
       "[200 rows x 25 columns]"
      ]
     },
     "execution_count": 7,
     "metadata": {},
     "output_type": "execute_result"
    }
   ],
   "source": [
    "#Drop High cholesterol from the input\n",
    "X= X.drop(\"HighCholesterol\",1) \n",
    "X"
   ]
  },
  {
   "cell_type": "code",
   "execution_count": 8,
   "metadata": {
    "colab": {},
    "colab_type": "code",
    "id": "HGpsNXdKp1Qr"
   },
   "outputs": [],
   "source": [
    "def trainModel():\n",
    "  #Time how long this takes\n",
    "  start_time = time.time()\n",
    "\n",
    "  MAX_ACCURACY = 0.1\n",
    "  final_codes = []\n",
    "  combinationsTested = 0 \n",
    "  while MAX_ACCURACY<0.80: #Only stop the loop once the accuracy is over the 80%\n",
    "    chosen_codes = set()\n",
    "    codes = list(X.columns.values)\n",
    "    while len(chosen_codes)<5:\n",
    "      index = random.randint(0, len(codes)-1)\n",
    "      chosen_codes.add(codes[index])\n",
    "    coloums = list(chosen_codes)\n",
    "    combinationsTested=combinationsTested+1\n",
    "    #Print out every 100,000 combinations\n",
    "    if combinationsTested%100000 == 0:\n",
    "        print(\"\\nNumber of Combinations Tested: \"+str(combinationsTested))\n",
    "        print(\"The max accuracy as of now is: \"+str(MAX_ACCURACY))\n",
    "    Z = X[coloums]\n",
    "    #Split the data \n",
    "    X_train, X_test, y_train, y_test = train_test_split(Z, y, random_state=1)\n",
    "    #Fit the decision tree model\n",
    "    dt = DecisionTreeClassifier()\n",
    "    dt.fit(X_train, y_train)\n",
    "    #Predict the value\n",
    "    y_pred = dt.predict(X_test)\n",
    "    #See the accuracy\n",
    "    if accuracy_score(list(y_test), y_pred)>MAX_ACCURACY:\n",
    "      chosen_dt = dt\n",
    "      MAX_ACCURACY=accuracy_score(list(y_test), y_pred)\n",
    "      final_codes = chosen_codes\n",
    "  #Print how many combinations that were tested \n",
    "  print(\"Combinations Tested: \"+ str(combinationsTested))\n",
    "\n",
    "  #Print the time that it has taken to find these features\n",
    "  print(\"Taken--- %s seconds ---\" % (time.time() - start_time))\n",
    "\n",
    "  #We then return the model and codes that has achieved an accuaracy of above 80%\n",
    "  return dt , chosen_codes\n"
   ]
  },
  {
   "cell_type": "markdown",
   "metadata": {
    "colab_type": "text",
    "id": "4zgOkWL3itcR"
   },
   "source": [
    "# Proof of Accuracy of 80% or Higher\n"
   ]
  },
  {
   "cell_type": "code",
   "execution_count": 9,
   "metadata": {
    "colab": {
     "base_uri": "https://localhost:8080/",
     "height": 54
    },
    "colab_type": "code",
    "id": "mO0tsEtSkYeZ",
    "outputId": "c865d19e-9231-48ec-e92c-7b5f32e8024e"
   },
   "outputs": [
    {
     "name": "stdout",
     "output_type": "stream",
     "text": [
      "Combinations Tested: 52647\n",
      "Taken--- 239.9828805923462 seconds ---\n"
     ]
    }
   ],
   "source": [
    "#Run Machine Learning model \n",
    "model , final_codes  = trainModel()"
   ]
  },
  {
   "cell_type": "code",
   "execution_count": 10,
   "metadata": {
    "colab": {
     "base_uri": "https://localhost:8080/",
     "height": 35
    },
    "colab_type": "code",
    "id": "gGVpglyokNKQ",
    "outputId": "2275d1e9-9e31-45e4-b3ab-c70afb03d238"
   },
   "outputs": [
    {
     "name": "stdout",
     "output_type": "stream",
     "text": [
      "Out of 50 patients used to test the model, it correctly predicted 40.0\n",
      "The percentage accuracy of this model is 80.0%\n"
     ]
    }
   ],
   "source": [
    "coloums = list(final_codes)\n",
    "Z = X[coloums]\n",
    "X_train, X_test, y_train, y_test = train_test_split(Z, y, random_state=1)\n",
    "#Predict the value\n",
    "y_pred = model.predict(X_test)\n",
    "\n",
    "#Find the Accuracy score \n",
    "score = accuracy_score(list(y_test), y_pred)\n",
    "print(\"Out of \" + str(len(y_test)) + \" patients used to test the model, it correctly predicted \"+ str(len(y_test)*score))\n",
    "score = score*100 #Multiply it by 100 to get percentage\n",
    "print(\"The percentage accuracy of this model is \" + str(score)+\"%\")\n"
   ]
  },
  {
   "cell_type": "code",
   "execution_count": 11,
   "metadata": {},
   "outputs": [
    {
     "name": "stdout",
     "output_type": "stream",
     "text": [
      "<sklearn.metrics._plot.confusion_matrix.ConfusionMatrixDisplay object at 0x000002C4C1AB6888>\n"
     ]
    },
    {
     "data": {
      "image/png": "[encoded data removed]",
      "text/plain": [
       "<Figure size 432x288 with 2 Axes>"
      ]
     },
     "metadata": {
      "needs_background": "light"
     },
     "output_type": "display_data"
    }
   ],
   "source": [
    "print(plot_confusion_matrix(model,X_test,y_test))"
   ]
  },
  {
   "cell_type": "markdown",
   "metadata": {
    "colab_type": "text",
    "id": "a2ate96VYq9b"
   },
   "source": [
    "# Selected Features\n",
    "\n"
   ]
  },
  {
   "cell_type": "code",
   "execution_count": 12,
   "metadata": {
    "colab": {
     "base_uri": "https://localhost:8080/",
     "height": 35
    },
    "colab_type": "code",
    "id": "zjswc_kplhNY",
    "outputId": "3365b889-c04f-4b84-fc7f-8c3de8fa39f1"
   },
   "outputs": [
    {
     "name": "stdout",
     "output_type": "stream",
     "text": [
      "{'39156-5', '6690-2', 'NH', '786-4', '789-8'}\n"
     ]
    }
   ],
   "source": [
    "#Print the selected codes\n",
    "print(final_codes)"
   ]
  },
  {
   "cell_type": "markdown",
   "metadata": {
    "colab_type": "text",
    "id": "TbuRYYpBllr1"
   },
   "source": [
    "These codes map to the features of:\n",
    "* '39156-5' : Body Mass Index.\n",
    "* '6690-2' : Leukocytes in Blood by Automated count.\n",
    "* 'NH' : Native Hawaiian or Other Pacific Islander.\n",
    "* '786-4' : MCHC by Automated count.\n",
    "* '789-8' : Erythrocytes in Blood by Automated count."
   ]
  },
  {
   "cell_type": "code",
   "execution_count": 13,
   "metadata": {},
   "outputs": [],
   "source": [
    "#Save the model \n",
    "# Save to file in the current working directory\n",
    "pkl_filename = \"model.pkl\"\n",
    "with open(pkl_filename, 'wb') as file:\n",
    "    pickle.dump(model, file)\n",
    "\n",
    "#Save the selected features\n",
    "with open(\"final_feature_codes.json\", \"w\" ) as file:\n",
    "    json.dump(list(final_codes),file)"
   ]
  }
 ],
 "metadata": {
  "accelerator": "GPU",
  "colab": {
   "collapsed_sections": [],
   "machine_shape": "hm",
   "name": "MachineLearningModel",
   "provenance": []
  },
  "kernelspec": {
   "display_name": "Python 3",
   "language": "python",
   "name": "python3"
  },
  "language_info": {
   "codemirror_mode": {
    "name": "ipython",
    "version": 3
   },
   "file_extension": ".py",
   "mimetype": "text/x-python",
   "name": "python",
   "nbconvert_exporter": "python",
   "pygments_lexer": "ipython3",
   "version": "3.7.6"
  }
 },
 "nbformat": 4,
 "nbformat_minor": 1
}
